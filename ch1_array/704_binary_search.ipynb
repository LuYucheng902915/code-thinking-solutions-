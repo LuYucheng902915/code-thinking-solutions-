{
 "cells": [
  {
   "cell_type": "markdown",
   "id": "a493838b",
   "metadata": {},
   "source": [
    "704. Binary Search\n",
    "\n",
    "https://leetcode.cn/problems/binary-search/"
   ]
  },
  {
   "cell_type": "markdown",
   "id": "925528eb",
   "metadata": {},
   "source": [
    "## 关于 Python 类型提示 (Type Hinting)\n",
    "\n",
    "* `from typing import List`: `List` 是一种类型提示，用于声明变量（如 `nums`）为整数列表。\n",
    "* **版本差异**: 从 Python 3.9 版本起，可直接使用内置的小写容器类型（如 `list`, `dict`）进行类型提示。\n",
    "    * 完整的函数签名示例如下：\n",
    "    ```python\n",
    "    def search(self, nums: list[int], target: int) -> int:\n",
    "    ```\n",
    "* **代码的跨版本兼容性**: 选择 `from typing import List` 写法，可以确保代码在新版 Python 及旧版本（3.9 之前）的环境中都能正确运行，从而提高代码的**可移植性 (Portability)**。\n",
    "* **向后兼容性 (Backward Compatibility)**: 这是一个描述**软件或平台本身**的术语。\n",
    "    * *定义*: 新版本的软件能够正确处理用旧版本创建的数据或代码。主体是**新版本**，它回头“向后”看，兼容旧的东西。\n",
    "    * *示例*: Python 3.10 解释器是**向后兼容**的，因为它能理解并运行为 Python 3.8 编写的、使用了 `from typing import List` 的代码。\n",
    "* **向前兼容性 (Forward Compatibility)**: 旧版本的软件能够处理新版本创建的数据或代码。此种兼容性通常非常难以实现。\n",
    "\n",
    "---\n",
    "\n",
    "## 二分查找核心思想：区间的定义\n",
    "\n",
    "实现二分查找的关键在于，首先确定搜索区间的定义方式，并在后续的循环和边界更新中严格保持该定义的一致性。主要存在两种方式：**左闭右闭**和**左闭右开**。\n",
    "\n",
    "### 方案一：左闭右闭区间 `[left, right]`\n",
    "\n",
    "此为最常见和直观的定义方式。\n",
    "\n",
    "* **区间初始化**: `left = 0`, `right = len(nums) - 1`\n",
    "    * 因为 `right` 指向数组的最后一个元素的索引，所以是闭区间。\n",
    "* **循环条件**: `while left <= right`\n",
    "    * 当 `left == right` 时，区间 `[left, left]` 依然有效，其包含一个元素，需要进行判断。\n",
    "* **边界更新**:\n",
    "    * `right = middle - 1` (目标值在左半部分，`middle` 已被检查，下一轮搜索区间为 `[left, middle - 1]`)\n",
    "    * `left = middle + 1` (目标值在右半部分，`middle` 已被检查，下一轮搜索区间为 `[middle + 1, right]`)\n",
    "\n",
    "### 方案二：左闭右开区间 `[left, right)`\n",
    "\n",
    "此方式在处理某些边界问题时具有优势。\n",
    "\n",
    "* **区间初始化**: `left = 0`, `right = len(nums)`\n",
    "    * 因为 `right` 的值是数组长度，该索引无法取到，所以是开区间。\n",
    "* **循环条件**: `while left < right`\n",
    "    * 当 `left == right` 时，区间 `[left, left)` 是一个空集，不包含任何元素，循环应该终止。\n",
    "* **边界更新**:\n",
    "    * `right = middle` (目标值在左半部分，`middle` 本身可能是答案，下一轮搜索区间为 `[left, middle)`)\n",
    "    * `left = middle + 1` (目标值在右半部分，`middle` 已被检查，下一轮搜索区间为 `[middle + 1, right)`)\n",
    "\n",
    "---\n",
    "\n",
    "## 注意事项与最佳实践\n",
    "\n",
    "* **Middle 计算**: 推荐使用 `middle = left + (right - left) // 2` 的写法。这种方式可以有效防止在 `left` 和 `right` 的值都非常大时，`left + right` 的结果超出整数类型的最大范围而导致的溢出问题。\n",
    "* **时间复杂度**: 二分查找的时间复杂度为 **O(log N)**，其中 N 是数组中元素的数量。每一次比较都将搜索空间减半。\n",
    "* **空间复杂度**: 迭代实现的二分查找空间复杂度为 **O(1)**。算法只使用了 `left`, `right`, `middle` 等有限几个变量，额外占用的内存空间是常数级别的，不会随着输入数组 `N` 的规模而增长。"
   ]
  },
  {
   "cell_type": "code",
   "execution_count": null,
   "id": "6abfc8eb",
   "metadata": {},
   "outputs": [],
   "source": [
    "from typing import List\n",
    "# 左闭右闭区间\n",
    "class Solution(object):\n",
    "    def search(self, nums: List[int], target: int) -> int:\n",
    "        left, right = 0, len(nums) - 1\n",
    "\n",
    "        while left <= right:\n",
    "            middle = left + (right - left) // 2\n",
    "\n",
    "            if nums[middle] > target:\n",
    "                right = middle - 1\n",
    "            elif nums[middle] < target:\n",
    "                left = middle + 1\n",
    "            else:\n",
    "                return middle\n",
    "\n",
    "        return -1"
   ]
  },
  {
   "cell_type": "code",
   "execution_count": null,
   "id": "d76c602e",
   "metadata": {},
   "outputs": [],
   "source": [
    "# 左闭右开区间\n",
    "class Solution2(object):\n",
    "    def search(self, nums: List[int], target: int) -> int:\n",
    "        left, right = 0, len(nums)\n",
    "\n",
    "        while left < right:\n",
    "            middle = left + (right - left) // 2\n",
    "\n",
    "            if nums[middle] > target:\n",
    "                right = middle\n",
    "            elif nums[middle] < target:\n",
    "                left = middle + 1\n",
    "            else:\n",
    "                return middle\n",
    "\n",
    "        return -1"
   ]
  }
 ],
 "metadata": {
  "kernelspec": {
   "display_name": "homl3",
   "language": "python",
   "name": "python3"
  },
  "language_info": {
   "codemirror_mode": {
    "name": "ipython",
    "version": 3
   },
   "file_extension": ".py",
   "mimetype": "text/x-python",
   "name": "python",
   "nbconvert_exporter": "python",
   "pygments_lexer": "ipython3",
   "version": "3.10.14"
  }
 },
 "nbformat": 4,
 "nbformat_minor": 5
}
