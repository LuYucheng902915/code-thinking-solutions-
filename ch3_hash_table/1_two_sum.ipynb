{
 "cells": [
  {
   "cell_type": "markdown",
   "id": "786d9329",
   "metadata": {},
   "source": [
    "1. Two Sum\n",
    "\n",
    "https://leetcode.cn/problems/two-sum"
   ]
  },
  {
   "cell_type": "markdown",
   "id": "8acee3aa",
   "metadata": {},
   "source": [
    "## 核心思想：利用哈希映射优化查找\n",
    "\n",
    "暴力解法通过两层循环来寻找答案，时间复杂度为 O(n²)。为了优化，关键在于如何将“寻找另一个数”的过程从 O(n) 降低到 O(1)。\n",
    "\n",
    "哈希表（在 Python 中为字典 `dict`）是实现这一目标理想的数据结构。它允许以平均 O(1) 的时间复杂度完成插入和查找操作。\n",
    "\n",
    "本题的核心思路是在遍历数组的过程中，利用哈希表充当一个“备忘录”或“登记表”。对于当前遍历到的数字 `num`，去“备忘录”中查询是否存在我们期望的“另一半” `target - num`。如果不存在，就将当前数字 `num` 和它的索引存入“备忘录”，以备后续的数字查询。\n",
    "\n",
    "## 算法思路\n",
    "\n",
    "该算法通过一次遍历即可解决问题：\n",
    "\n",
    "1.  初始化一个空的哈希映射 `hashmap`，用于存储 `{数字: 索引}` 的键值对。\n",
    "2.  遍历输入数组 `nums`，在每一步同时获取元素的索引 `i` 和值 `num`。\n",
    "3.  对于每个元素 `num`，计算其需要配对的目标值 `complement = target - num`。\n",
    "4.  检查 `complement` 是否已经存在于 `hashmap` 的键中。\n",
    "    * 如果存在，说明之前已经遍历过能与当前 `num` 配对的数字。找到了答案，返回 `[hashmap[complement], i]`。\n",
    "    * 如果不存在，说明目前还没遇到能配对的数字。将当前数字和索引存入哈希映射 `hashmap[num] = i`，供后续的元素查询。\n",
    "\n",
    "## 复杂度分析\n",
    "\n",
    "* **时间复杂度**: $O(n)$\n",
    "    算法只需要对数组进行一次完整的遍历。在循环的每一步中，哈希表的查找（`in hashmap`）和插入操作的平均时间复杂度都是 $O(1)$。因此，总的时间复杂度与数组的长度 `n` 呈线性关系，为 $O(n)$。\n",
    "\n",
    "* **空间复杂度**: $O(n)$\n",
    "    在最坏的情况下（例如，数组中没有重复元素，且配对的两个数在数组的末尾），哈希映射 `hashmap` 可能需要存储数组中几乎所有的元素。因此，所需的额外空间与输入数组的规模 `n` 成正比，为 $O(n)$。\n",
    "\n",
    "---\n",
    "\n",
    "## 关于“任意顺序返回答案”的讨论\n",
    "\n",
    "题目提示“你可以按任意顺序返回答案”，这为采用不同解法提供了灵活性。\n",
    "\n",
    "* 本文讨论的**哈希映射解法**，其返回结果 `[旧索引, 当前索引]` 天然满足**小编号在前、大编号在后**的顺序。\n",
    "\n",
    "* 另一种常见思路是**“排序 + 双指针”法**，但它对于本题并非最优。\n",
    "    * **思路**: 先将原数组的“数值和原始索引”绑定并排序，然后使用头尾两个指针向中间收缩，寻找和为目标值的两个数。\n",
    "    * **缺点**:\n",
    "        1.  **时间复杂度更高**: 由于需要排序，总时间复杂度为 $O(n \\log n)$，劣于哈希映射法的 $O(n)$。\n",
    "        2.  **索引顺序会改变**: 排序会打乱原始索引的顺序，找到答案后返回的两个索引（如 `[5, 2]`）不一定是有序的。题目的提示正是为了兼容这类解法。"
   ]
  },
  {
   "cell_type": "code",
   "execution_count": null,
   "id": "eeaa4ada",
   "metadata": {},
   "outputs": [],
   "source": [
    "from typing import List\n",
    "\n",
    "class Solution:\n",
    "    def twoSum(self, nums: List[int], target: int) -> List[int]:\n",
    "        hashmap = {}  # key: number, value: index\n",
    "        for i, num in enumerate(nums):\n",
    "            complement = target - num\n",
    "            if complement in hashmap:\n",
    "                return [hashmap[complement], i]\n",
    "            # 将当前数字和索引存入哈希表，供后面的元素查询\n",
    "            hashmap[num] = i"
   ]
  }
 ],
 "metadata": {
  "kernelspec": {
   "display_name": "homl3",
   "language": "python",
   "name": "python3"
  },
  "language_info": {
   "name": "python",
   "version": "3.10.14"
  }
 },
 "nbformat": 4,
 "nbformat_minor": 5
}
