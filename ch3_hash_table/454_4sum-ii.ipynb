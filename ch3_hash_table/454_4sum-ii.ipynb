{
 "cells": [
  {
   "cell_type": "markdown",
   "id": "786d9329",
   "metadata": {},
   "source": [
    "454. 4Sum II\n",
    "\n",
    "https://leetcode.cn/problems/4sum-ii/"
   ]
  },
  {
   "cell_type": "markdown",
   "id": "8acee3aa",
   "metadata": {},
   "source": [
    "## 核心思想：分组与哈希映射\n",
    "\n",
    "暴力解法需要四层循环来枚举四个数组的所有组合，时间复杂度高达 O(n⁴)，对于 `n=200` 的数据规模是无法接受的。\n",
    "\n",
    "优化的核心在于通过**“空间换时间”**的思想，利用哈希表进行预计算和快速查找，从而降低时间复杂度。\n",
    "\n",
    "题目要求 `nums1[i] + nums2[j] + nums3[k] + nums4[l] == 0`，我们可以将这个等式进行移项，变换为：\n",
    "$$\n",
    "nums1[i] + nums2[j] = -(nums3[k] + nums4[l])\n",
    "$$\n",
    "这个变换是解题的关键。它将原问题“在四个数组中寻找和为 0 的四个数”拆解为了两个独立的子问题：\n",
    "\n",
    "1.  计算 `nums1` 和 `nums2` 中所有可能的“两数之和”。\n",
    "2.  计算 `nums3` 和 `nums4` 中所有可能的“两数之和”，并检查其相反数是否存在于第一步的结果中。\n",
    "\n",
    "通过哈希映射来存储第一步中所有“和”及其出现的次数，就可以在 O(1) 的时间内完成第二步的查询，从而避免了额外的两层循环。\n",
    "\n",
    "## 算法思路\n",
    "\n",
    "1.  初始化一个哈希映射 `sum_map`，用于存储 `{两数之和: 出现次数}` 的键值对。\n",
    "2.  使用两层嵌套循环遍历 `nums1` 和 `nums2`。对于每一个数对 `(num1, num2)`，计算它们的和 `s = num1 + num2`。\n",
    "3.  将和 `s` 存入 `sum_map` 中，并更新其出现次数。\n",
    "4.  初始化一个计数器 `count = 0`，用于累计满足条件的元组数量。\n",
    "5.  再使用两层嵌套循环遍历 `nums3` 和 `nums4`。对于每一个数对 `(num3, num4)`，计算其和 `s_prime = num3 + num4`。\n",
    "6.  根据等式 `s = -s_prime`，确定需要从 `sum_map` 中查找的目标值 `target = -s_prime`。\n",
    "7.  在 `sum_map` 中查找是否存在键 `target`。如果存在，说明找到了能够配对的组合。将 `sum_map[target]` 中存储的次数累加到 `count` 上。\n",
    "8.  所有循环结束后，`count` 即为最终答案。\n",
    "\n",
    "## 复杂度分析\n",
    "\n",
    "* **时间复杂度**: $O(n²)$\n",
    "    * 构建哈希映射 `sum_map` 的过程需要遍历 `nums1` 和 `nums2`，包含两层嵌套循环，因此时间复杂度为 $O(n \\times n) = O(n²)$。其中，哈希表的插入操作平均耗时为 $O(1)$。\n",
    "    * 遍历 `nums3` 和 `nums4` 并进行查找的过程，同样包含两层嵌套循环，时间复杂度为 $O(n \\times n) = O(n²)$。其中，哈希表的查找操作平均耗时为 $O(1)$。\n",
    "    * 总的时间复杂度为 $O(n²) + O(n²) = O(n²)$。\n",
    "\n",
    "* **空间复杂度**: $O(n²)$\n",
    "    * 算法需要额外的空间来存储哈希映射 `sum_map`。\n",
    "    * 在最坏的情况下，`nums1` 和 `nums2` 中任意两个数的和都互不相同，此时哈希映射中需要存储 $n \\times n = n²$ 个键值对。\n",
    "    * 因此，算法的空间复杂度为 $O(n²)$。"
   ]
  },
  {
   "cell_type": "code",
   "execution_count": null,
   "id": "eeaa4ada",
   "metadata": {},
   "outputs": [],
   "source": [
    "from typing import List\n",
    "\n",
    "class Solution:\n",
    "    def fourSumCount(self, nums1: List[int], nums2: List[int], nums3: List[int], nums4: List[int]) -> int:\n",
    "        # 使用一个哈希映射存储 nums1 和 nums2 的和及其出现次数\n",
    "        sum_map = {}\n",
    "        for num1 in nums1:\n",
    "            for num2 in nums2:\n",
    "                s = num1 + num2\n",
    "                sum_map[s] = sum_map.get(s, 0) + 1\n",
    "        \n",
    "        count = 0\n",
    "        # 遍历 nums3 和 nums4，查找能与之前计算出的和配对的组合\n",
    "        for num3 in nums3:\n",
    "            for num4 in nums4:\n",
    "                # 我们需要找到一个 s，使得 s + (num3 + num4) = 0\n",
    "                # 即 s = -(num3 + num4)\n",
    "                target = - (num3 + num4)\n",
    "                if target in sum_map:\n",
    "                    # 如果找到了，将对应的组合数累加到结果中\n",
    "                    count += sum_map[target]\n",
    "                    \n",
    "        return count"
   ]
  }
 ],
 "metadata": {
  "kernelspec": {
   "display_name": "homl3",
   "language": "python",
   "name": "python3"
  },
  "language_info": {
   "codemirror_mode": {
    "name": "ipython",
    "version": 3
   },
   "file_extension": ".py",
   "mimetype": "text/x-python",
   "name": "python",
   "nbconvert_exporter": "python",
   "pygments_lexer": "ipython3",
   "version": "3.10.14"
  }
 },
 "nbformat": 4,
 "nbformat_minor": 5
}
