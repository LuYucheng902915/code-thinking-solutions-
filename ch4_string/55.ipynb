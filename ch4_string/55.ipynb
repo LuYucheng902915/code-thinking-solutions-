{
 "cells": [
  {
   "cell_type": "markdown",
   "id": "d251b14d",
   "metadata": {},
   "source": [
    "55. 右旋字符串\n",
    "\n",
    "https://kamacoder.com/problempage.php?pid=1065"
   ]
  },
  {
   "cell_type": "markdown",
   "id": "1f13b03c",
   "metadata": {},
   "source": [
    "### 方案一点评：辅助列表 + 索引映射\n",
    "\n",
    "该方案的逻辑非常直观，它通过创建一个新的空列表，然后遍历原始字符串，利用取模运算 `(i + k) % length` 将每个字符直接放置到其旋转后的最终位置。这种方法的核心优势在于其清晰性和易于理解，它精确地模拟了每个元素从初始位置到目标位置的映射关系。虽然需要额外开辟一个与原字符串等长的空间，但它的实现思路直接明了，是初学者很容易想到的正确解法。此外，该方法中的取模运算天生就能处理 `k` 大于字符串长度的情况，具有很好的鲁棒性。\n",
    "\n",
    "* **时间复杂度**: $O(N)$，因为需要一次遍历来填充新列表。\n",
    "* **空间复杂度**: $O(N)$，因为需要一个额外的列表来存储结果。"
   ]
  },
  {
   "cell_type": "code",
   "execution_count": null,
   "id": "82bf5a75",
   "metadata": {},
   "outputs": [],
   "source": [
    "def main():\n",
    "    k = int(input())\n",
    "    string = input().strip()\n",
    "    length = len(string)\n",
    "    list_string = list(string)\n",
    "    result = [\"\"] * length\n",
    "    for i in range(length):\n",
    "        result[(i + k) % length] = list_string[i]\n",
    "\n",
    "    print(\"\".join(result))\n",
    "\n",
    "\n",
    "if __name__ == \"__main__\":\n",
    "    main()"
   ]
  },
  {
   "cell_type": "markdown",
   "id": "5bc6daa0",
   "metadata": {},
   "source": [
    "### 方案二点评：字符串切片拼接\n",
    "\n",
    "这是最具 Python 风格的解法，充分利用了语言特性，将复杂的旋转操作简化为一行核心代码。通过将字符串的尾部切片 (`s[-k:]`) 与头部切片 (`s[:-k]`) 进行拼接，代码意图一目了然，极为简洁优雅。对于熟悉 Python 的开发者而言，这种方案的可读性和编写效率都是最高的。它在底层虽然也涉及字符的复制和新字符串的创建，但在代码层面将这些复杂性完全隐藏，是工程实践中的首选方案。\n",
    "\n",
    "* **时间复杂度**: $O(N)$，切片和拼接操作的成本与字符串长度成正比。\n",
    "* **空间复杂度**: $O(N)$，因为切片和拼接过程会产生新的字符串对象。\n"
   ]
  },
  {
   "cell_type": "code",
   "execution_count": null,
   "id": "6e7c107e",
   "metadata": {},
   "outputs": [],
   "source": [
    "def main():\n",
    "    k = int(input())\n",
    "    s = input().strip()\n",
    "    length = len(s)\n",
    "    k = k % length\n",
    "    result = s[-k:] + s[:-k]\n",
    "    print(result)\n",
    "\n",
    "\n",
    "if __name__ == \"__main__\":\n",
    "    main()"
   ]
  },
  {
   "cell_type": "markdown",
   "id": "4e4a3a08",
   "metadata": {},
   "source": [
    "### 方案三点评：三次反转算法\n",
    "\n",
    "这是一种非常巧妙且经典的算法，尤其在注重空间效率的场景下（如 C++ 或 Java 的数组操作）大放异彩。它通过“整体反转、局部反转”的三步操作，实现了原地旋转，展现了深刻的算法思维。这种方法不依赖于高级语言特性，而是通过底层的逻辑变换解决问题。虽然在 Python 中由于字符串的不可变性，必须先转换为列表，从而引入了 $O(N)$ 的空间开销，使其失去了原地操作的优势，但这个算法思想本身极具学习价值，是面试中展现算法功底的绝佳例子。\n",
    "\n",
    "* **时间复杂度**: $O(N)$，每个元素总共被移动了常数次。\n",
    "* **空间复杂度**: 在 Python 中为 $O(N)$（因需转换为列表），但在支持原地修改数组的语言中可达到 $O(1)$。"
   ]
  },
  {
   "cell_type": "code",
   "execution_count": null,
   "id": "f8aa4ab6",
   "metadata": {},
   "outputs": [],
   "source": [
    "def reverse_string(s_list, start, end):\n",
    "    \"\"\"辅助函数，用于反转列表的一部分\"\"\"\n",
    "    while start < end:\n",
    "        s_list[start], s_list[end] = s_list[end], s_list[start]\n",
    "        start += 1\n",
    "        end -= 1\n",
    "\n",
    "def main():\n",
    "    k = int(input())\n",
    "    s = input()\n",
    "    \n",
    "    length = len(s)\n",
    "    k = k % length\n",
    "    \n",
    "    s_list = list(s)\n",
    "    \n",
    "    # 1. 整体反转\n",
    "    reverse_string(s_list, 0, length - 1)\n",
    "    \n",
    "    # 2. 反转前 k 部分\n",
    "    reverse_string(s_list, 0, k - 1)\n",
    "    \n",
    "    # 3. 反转后 length-k 部分\n",
    "    reverse_string(s_list, k, length - 1)\n",
    "    \n",
    "    print(\"\".join(s_list))\n",
    "\n",
    "if __name__ == \"__main__\":\n",
    "    main()"
   ]
  }
 ],
 "metadata": {
  "kernelspec": {
   "display_name": "homl3",
   "language": "python",
   "name": "python3"
  },
  "language_info": {
   "name": "python",
   "version": "3.10.14"
  }
 },
 "nbformat": 4,
 "nbformat_minor": 5
}
